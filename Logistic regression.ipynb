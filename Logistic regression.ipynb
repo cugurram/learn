{
 "cells": [
  {
   "cell_type": "code",
   "execution_count": 14,
   "id": "d7b3ed90",
   "metadata": {},
   "outputs": [
    {
     "data": {
      "text/html": [
       "<div>\n",
       "<style scoped>\n",
       "    .dataframe tbody tr th:only-of-type {\n",
       "        vertical-align: middle;\n",
       "    }\n",
       "\n",
       "    .dataframe tbody tr th {\n",
       "        vertical-align: top;\n",
       "    }\n",
       "\n",
       "    .dataframe thead th {\n",
       "        text-align: right;\n",
       "    }\n",
       "</style>\n",
       "<table border=\"1\" class=\"dataframe\">\n",
       "  <thead>\n",
       "    <tr style=\"text-align: right;\">\n",
       "      <th></th>\n",
       "      <th>Blood Sugar Level</th>\n",
       "      <th>Diabetes</th>\n",
       "    </tr>\n",
       "  </thead>\n",
       "  <tbody>\n",
       "    <tr>\n",
       "      <th>0</th>\n",
       "      <td>190</td>\n",
       "      <td>No</td>\n",
       "    </tr>\n",
       "    <tr>\n",
       "      <th>1</th>\n",
       "      <td>240</td>\n",
       "      <td>Yes</td>\n",
       "    </tr>\n",
       "    <tr>\n",
       "      <th>2</th>\n",
       "      <td>300</td>\n",
       "      <td>Yes</td>\n",
       "    </tr>\n",
       "    <tr>\n",
       "      <th>3</th>\n",
       "      <td>160</td>\n",
       "      <td>No</td>\n",
       "    </tr>\n",
       "    <tr>\n",
       "      <th>4</th>\n",
       "      <td>200</td>\n",
       "      <td>Yes</td>\n",
       "    </tr>\n",
       "  </tbody>\n",
       "</table>\n",
       "</div>"
      ],
      "text/plain": [
       "   Blood Sugar Level Diabetes\n",
       "0                190       No\n",
       "1                240      Yes\n",
       "2                300      Yes\n",
       "3                160       No\n",
       "4                200      Yes"
      ]
     },
     "execution_count": 14,
     "metadata": {},
     "output_type": "execute_result"
    }
   ],
   "source": [
    "import numpy as np\n",
    "import pandas as pd\n",
    "\n",
    "dia = pd.read_csv(\"Diabetes Example Data.csv\")\n",
    "\n",
    "dia.head(5)"
   ]
  },
  {
   "cell_type": "code",
   "execution_count": 15,
   "id": "c5150435",
   "metadata": {},
   "outputs": [],
   "source": [
    "dia[\"Diabetes\"] = dia[\"Diabetes\"].map({\"Yes\":1,\"No\":0})\n",
    "x = dia[\"Blood Sugar Level\"]\n",
    "y = dia[\"Diabetes\"]\n"
   ]
  },
  {
   "cell_type": "code",
   "execution_count": 19,
   "id": "60d5eb48",
   "metadata": {},
   "outputs": [
    {
     "name": "stdout",
     "output_type": "stream",
     "text": [
      "                 Generalized Linear Model Regression Results                  \n",
      "==============================================================================\n",
      "Dep. Variable:               Diabetes   No. Observations:                   10\n",
      "Model:                            GLM   Df Residuals:                        8\n",
      "Model Family:                Binomial   Df Model:                            1\n",
      "Link Function:                  Logit   Scale:                          1.0000\n",
      "Method:                          IRLS   Log-Likelihood:                -2.5838\n",
      "Date:                Fri, 02 Feb 2024   Deviance:                       5.1676\n",
      "Time:                        12:52:31   Pearson chi2:                     4.32\n",
      "No. Iterations:                     7   Pseudo R-squ. (CS):             0.5809\n",
      "Covariance Type:            nonrobust                                         \n",
      "=====================================================================================\n",
      "                        coef    std err          z      P>|z|      [0.025      0.975]\n",
      "-------------------------------------------------------------------------------------\n",
      "const               -13.5243      9.358     -1.445      0.148     -31.866       4.817\n",
      "Blood Sugar Level     0.0637      0.044      1.439      0.150      -0.023       0.150\n",
      "=====================================================================================\n"
     ]
    }
   ],
   "source": [
    "\n",
    "import statsmodels.api as sm\n",
    "\n",
    "\n",
    "lm = sm.GLM(y,sm.add_constant(x), family=sm.families.Binomial()).fit()\n",
    "print(lm.summary())\n"
   ]
  }
 ],
 "metadata": {
  "kernelspec": {
   "display_name": "Python 3 (ipykernel)",
   "language": "python",
   "name": "python3"
  },
  "language_info": {
   "codemirror_mode": {
    "name": "ipython",
    "version": 3
   },
   "file_extension": ".py",
   "mimetype": "text/x-python",
   "name": "python",
   "nbconvert_exporter": "python",
   "pygments_lexer": "ipython3",
   "version": "3.11.5"
  }
 },
 "nbformat": 4,
 "nbformat_minor": 5
}
